{
 "cells": [
  {
   "cell_type": "markdown",
   "metadata": {},
   "source": [
    "3. Протестувати різні реалізовані в gdal методи паншарпенінгу. Для\n",
    "цього підготуйте склеєні RGB канали Landsat-8 та окремо панхроматичний\n",
    "канал. Переведіть панхроматичний канал у 30 м, а RGB канали у 60 метрів.\n",
    "Після цього паншарпніть 60 метровий RGB за допомогою 30 м\n",
    "панхроматичного каналу. Після цього ви отримуєте два 30 метрових RGB\n",
    "зображення - перший оригінальний, другий паншарпнутий. Підрахуйте\n",
    "метрики точності паншарпенінгу (це будь які вам відомі метрики які можна\n",
    "використовувати для валідації регресії, наприклад r square). За даними\n",
    "метриками виберіть найкращий метод паншарпенінгу.\n",
    "Список ідентифікаторів Landsat-8:\n",
    "1. LC08_L1TP_182025_20190830_20190903_01_T1\n",
    "2. LC08_L1TP_182026_20190830_20190903_01_T1"
   ]
  },
  {
   "cell_type": "code",
   "execution_count": null,
   "metadata": {},
   "outputs": [],
   "source": [
    "import os\n",
    "from landsatxplore.api import API\n",
    "from landsatxplore.earthexplorer import EarthExplorer\n",
    "\n",
    "# Встановлюємо змінні середовища для автентифікації\n",
    "os.environ[\"USGS_USERNAME\"] = \"YOUR_USGS_USERNAME\"\n",
    "os.environ[\"USGS_PASSWORD\"] = \"YOUR_USGS_PASSWORD\"\n",
    "\n",
    "# Ініціалізуємо API та EarthExplorer\n",
    "api = API()\n",
    "ee = EarthExplorer(username=os.environ.get(\"USGS_USERNAME\"), password=os.environ.get(\"USGS_PASSWORD\"))\n",
    "\n",
    "# Список ідентифікаторів Landsat-8\n",
    "scenes = [\"LC08_L1TP_182025_20190830_20190903_01_T1\", \"LC08_L1TP_182026_20190830_20190903_01_T1\"]\n",
    "\n",
    "# Завантаження та збереження знімків\n",
    "for scene in scenes:\n",
    "    print(f\"Завантаження знімка: {scene}\")\n",
    "    bundle_file = api.download(scene, output_dir=\"./data\")\n",
    "\n",
    "    # Розпакування файлів\n",
    "    print(\"Розпакування файлів...\")\n",
    "    ee.unpack(bundle_file, output_dir=\"./data\")\n",
    "\n",
    "print(\"Завершено!\")"
   ]
  }
 ],
 "metadata": {
  "language_info": {
   "name": "python"
  }
 },
 "nbformat": 4,
 "nbformat_minor": 2
}
